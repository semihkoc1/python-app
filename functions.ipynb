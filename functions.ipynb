{
  "nbformat": 4,
  "nbformat_minor": 0,
  "metadata": {
    "colab": {
      "name": "functions.ipynb",
      "provenance": [],
      "authorship_tag": "ABX9TyOhIKUpvnw85H8ipNl7l6bA",
      "include_colab_link": true
    },
    "kernelspec": {
      "name": "python3",
      "display_name": "Python 3"
    },
    "language_info": {
      "name": "python"
    }
  },
  "cells": [
    {
      "cell_type": "markdown",
      "metadata": {
        "id": "view-in-github",
        "colab_type": "text"
      },
      "source": [
        "<a href=\"https://colab.research.google.com/github/semihkoc1/python-app/blob/main/functions.ipynb\" target=\"_parent\"><img src=\"https://colab.research.google.com/assets/colab-badge.svg\" alt=\"Open In Colab\"/></a>"
      ]
    },
    {
      "cell_type": "code",
      "metadata": {
        "colab": {
          "base_uri": "https://localhost:8080/"
        },
        "id": "Ekr2cOd1wZN5",
        "outputId": "c445cc03-2c6d-46d2-cb64-c90f4e74b290"
      },
      "source": [
        "def city(capital, continent='Europe'):\n",
        "  if capital == 'Athens':\n",
        "    print('capital is  in Europe')\n",
        "  print(capital, 'in', continent)\n",
        "\n",
        "city('Athens')\n",
        "\n",
        "\n",
        "def frutguy(fruit1,fruit2):\n",
        "  print('I want to get', fruit1, 'and', fruit2)\n",
        "\n",
        "\n",
        "frutguy('orange', 'grape')\n",
        "\n",
        "\n",
        "\n",
        "def grocery(*fruit):\n",
        "  print('i want to get:')\n",
        "  for i in fruit:\n",
        "    print('*', i)\n",
        "\n",
        "grocery('apple','banana','kiwi','pineapple','watermelon')\n",
        "\n",
        "\n",
        "def animals(**kwargs):\n",
        "  for key, value in kwargs.items():\n",
        "    print(value, \"are\", key)\n",
        "animals(Kings = 'Lions', Unbeatable = 'Bears', Harbihayvan = 'Deers', Scariest = 'wolves')\n",
        "\n",
        "def brothers(bro1,bro2,bro3):\n",
        "  print('Here is the names of my brothers :')\n",
        "  print(bro1,bro2,bro3)\n",
        "\n",
        "family =['tim','tom','rum']\n",
        "brothers(*family)\n",
        "family2 =('Dan','Man','Han')\n",
        "print(type(family2))\n",
        "\n",
        "\n",
        "first_namee=input('enter forst name')\n",
        "first_n_initial =first_namee[0:1]\n",
        "lnamee=input('enter forst name')\n",
        "first_n_initial =lnamee[0:1]\n",
        "print(lnamee,first_namee)\n",
        "\n",
        "def square(x):\n",
        "  return (x**2)\n",
        "\n",
        "\n",
        "(lambda x: x**2)(5)\n",
        "\n",
        "avarage=lambda x,y:(x+y)/2\n",
        "print(avarage(12,3))\n",
        "\n",
        "for i in range(12):\n",
        "  if i > 0:\n",
        "    i == 0\n",
        "    print(i)\n",
        "  else:\n",
        "    print(i,'is not > 0')\n",
        "\n",
        "x =['usa','germany']\n",
        "y = ['france','japan','korea']\n",
        "\n",
        "for i in x:\n",
        "  for j in y:\n",
        "    print(type([tuple(i+j)]))\n",
        "\n"
      ],
      "execution_count": 13,
      "outputs": [
        {
          "output_type": "stream",
          "name": "stdout",
          "text": [
            "capital is  in Europe\n",
            "Athens in Europe\n",
            "I want to get orange and grape\n",
            "i want to get:\n",
            "* apple\n",
            "* banana\n",
            "* kiwi\n",
            "* pineapple\n",
            "* watermelon\n",
            "Lions are Kings\n",
            "Bears are Unbeatable\n",
            "Deers are Harbihayvan\n",
            "wolves are Scariest\n",
            "Here is the names of my brothers :\n",
            "tim tom rum\n",
            "<class 'tuple'>\n",
            "enter forst namesemih\n",
            "enter forst namekoc\n",
            "koc semih\n",
            "7.5\n",
            "0 is not > 0\n",
            "1\n",
            "2\n",
            "3\n",
            "4\n",
            "5\n",
            "6\n",
            "7\n",
            "8\n",
            "9\n",
            "10\n",
            "11\n",
            "<class 'list'>\n",
            "<class 'list'>\n",
            "<class 'list'>\n",
            "<class 'list'>\n",
            "<class 'list'>\n",
            "<class 'list'>\n"
          ]
        }
      ]
    }
  ]
}