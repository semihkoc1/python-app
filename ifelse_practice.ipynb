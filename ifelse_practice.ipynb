{
  "nbformat": 4,
  "nbformat_minor": 0,
  "metadata": {
    "colab": {
      "name": "ifelse.ipynb",
      "provenance": [],
      "authorship_tag": "ABX9TyMtYGbvyDDXpvaPkH4qarYC",
      "include_colab_link": true
    },
    "kernelspec": {
      "name": "python3",
      "display_name": "Python 3"
    },
    "language_info": {
      "name": "python"
    }
  },
  "cells": [
    {
      "cell_type": "markdown",
      "metadata": {
        "id": "view-in-github",
        "colab_type": "text"
      },
      "source": [
        "<a href=\"https://colab.research.google.com/github/semihkoc1/python-app/blob/main/ifelse_practice.ipynb\" target=\"_parent\"><img src=\"https://colab.research.google.com/assets/colab-badge.svg\" alt=\"Open In Colab\"/></a>"
      ]
    },
    {
      "cell_type": "code",
      "metadata": {
        "colab": {
          "base_uri": "https://localhost:8080/"
        },
        "id": "bkAH84FdVfsv",
        "outputId": "9c7f1e5d-df08-4b12-96ee-3fa901725713"
      },
      "source": [
        "num1 =float(input('Enter a number'))\n",
        "num2 =float(input('Enter a number'))\n",
        "if num1 < 100 and num2 >100:\n",
        "  print(f'number2 is the biggest:', {num2})\n",
        "else: print(f'number1 is the biggest:', {num1})"
      ],
      "execution_count": 6,
      "outputs": [
        {
          "output_type": "stream",
          "name": "stdout",
          "text": [
            "Enter a number150\n",
            "Enter a number100\n",
            "number1 is the biggest: {150.0}\n"
          ]
        }
      ]
    }
  ]
}