{
  "nbformat": 4,
  "nbformat_minor": 0,
  "metadata": {
    "colab": {
      "name": "functions.ipynb",
      "provenance": [],
      "authorship_tag": "ABX9TyOs7UAymLrTcUutf+BzpjKL",
      "include_colab_link": true
    },
    "kernelspec": {
      "name": "python3",
      "display_name": "Python 3"
    },
    "language_info": {
      "name": "python"
    }
  },
  "cells": [
    {
      "cell_type": "markdown",
      "metadata": {
        "id": "view-in-github",
        "colab_type": "text"
      },
      "source": [
        "<a href=\"https://colab.research.google.com/github/semihkoc1/python-app/blob/main/functions.ipynb\" target=\"_parent\"><img src=\"https://colab.research.google.com/assets/colab-badge.svg\" alt=\"Open In Colab\"/></a>"
      ]
    },
    {
      "cell_type": "code",
      "metadata": {
        "id": "Ekr2cOd1wZN5"
      },
      "source": [
        "def city(capital, continent='Europe'):\n",
        "  if capital == 'Athens':\n",
        "    print('capital is  in Europe')\n",
        "  print(capital, 'in', continent)\n",
        "\n",
        "city('Athens')\n",
        "\n",
        "\n",
        "def frutguy(fruit1,fruit2):\n",
        "  print('I want to get', fruit1, 'and', fruit2)\n",
        "\n",
        "\n",
        "frutguy('orange', 'grape')\n",
        "\n",
        "\n",
        "\n",
        "def grocery(*fruit):\n",
        "  print('i want to get:')\n",
        "  for i in fruit:\n",
        "    print('*', i)\n",
        "\n",
        "grocery('apple','banana','kiwi','pineapple','watermelon')\n",
        "\n",
        "\n",
        "def animals(**kwargs):\n",
        "  for key, value in kwargs.items():\n",
        "    print(value, \"are\", key)\n",
        "animals(Kings = 'Lions', Unbeatable = 'Bears', Harbihayvan = 'Deers', Scariest = 'wolves')\n",
        "\n",
        "def brothers(bro1,bro2,bro3):\n",
        "  print('Here is the names of my brothers :')\n",
        "  print(bro1,bro2,bro3)\n",
        "\n",
        "family =['tim','tom','rum']\n",
        "brothers(*family)\n",
        "family2 =('Dan','Man','Han')\n",
        "print(type(family2))\n",
        "\n",
        "\n",
        "first_namee=input('enter forst name')\n",
        "first_n_initial =first_namee[0:1]\n",
        "lnamee=input('enter forst name')\n",
        "first_n_initial =lnamee[0:1]\n",
        "print(lnamee,first_namee)\n",
        "\n",
        "\n",
        "\n"
      ],
      "execution_count": null,
      "outputs": []
    }
  ]
}