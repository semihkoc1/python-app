{
  "nbformat": 4,
  "nbformat_minor": 0,
  "metadata": {
    "colab": {
      "name": "functions.ipynb",
      "provenance": [],
      "authorship_tag": "ABX9TyMSWOlkTLFeEA1jFgqGxUp9",
      "include_colab_link": true
    },
    "kernelspec": {
      "name": "python3",
      "display_name": "Python 3"
    },
    "language_info": {
      "name": "python"
    }
  },
  "cells": [
    {
      "cell_type": "markdown",
      "metadata": {
        "id": "view-in-github",
        "colab_type": "text"
      },
      "source": [
        "<a href=\"https://colab.research.google.com/github/semihkoc1/python-app/blob/main/functions.ipynb\" target=\"_parent\"><img src=\"https://colab.research.google.com/assets/colab-badge.svg\" alt=\"Open In Colab\"/></a>"
      ]
    },
    {
      "cell_type": "code",
      "metadata": {
        "colab": {
          "base_uri": "https://localhost:8080/"
        },
        "id": "Ekr2cOd1wZN5",
        "outputId": "c445cc03-2c6d-46d2-cb64-c90f4e74b290"
      },
      "source": [
        "def city(capital, continent='Europe'):\n",
        "  if capital == 'Athens':\n",
        "    print('capital is  in Europe')\n",
        "  print(capital, 'in', continent)\n",
        "\n",
        "city('Athens')\n",
        "\n",
        "\n",
        "def frutguy(fruit1,fruit2):\n",
        "  print('I want to get', fruit1, 'and', fruit2)\n",
        "\n",
        "\n",
        "frutguy('orange', 'grape')\n",
        "\n",
        "\n",
        "\n",
        "def grocery(*fruit):\n",
        "  print('i want to get:')\n",
        "  for i in fruit:\n",
        "    print('*', i)\n",
        "\n",
        "grocery('apple','banana','kiwi','pineapple','watermelon')\n",
        "\n",
        "\n",
        "def animals(**kwargs):\n",
        "  for key, value in kwargs.items():\n",
        "    print(value, \"are\", key)\n",
        "animals(Kings = 'Lions', Unbeatable = 'Bears', Harbihayvan = 'Deers', Scariest = 'wolves')\n",
        "\n",
        "def brothers(bro1,bro2,bro3):\n",
        "  print('Here is the names of my brothers :')\n",
        "  print(bro1,bro2,bro3)\n",
        "\n",
        "family =['tim','tom','rum']\n",
        "brothers(*family)\n",
        "family2 =('Dan','Man','Han')\n",
        "print(type(family2))\n",
        "\n",
        "\n",
        "first_namee=input('enter forst name')\n",
        "first_n_initial =first_namee[0:1]\n",
        "lnamee=input('enter forst name')\n",
        "first_n_initial =lnamee[0:1]\n",
        "print(lnamee,first_namee)\n",
        "\n",
        "def square(x):\n",
        "  return (x**2)\n",
        "\n",
        "\n",
        "(lambda x: x**2)(5)\n",
        "\n",
        "avarage=lambda x,y:(x+y)/2\n",
        "print(avarage(12,3))\n",
        "\n",
        "for i in range(12):\n",
        "  if i > 0:\n",
        "    i == 0\n",
        "    print(i)\n",
        "  else:\n",
        "    print(i,'is not > 0')\n",
        "\n",
        "x =['usa','germany']\n",
        "y = ['france','japan','korea']\n",
        "\n",
        "for i in x:\n",
        "  for j in y:\n",
        "    print(type([tuple(i+j)]))\n",
        "\n"
      ],
      "execution_count": 13,
      "outputs": [
        {
          "output_type": "stream",
          "name": "stdout",
          "text": [
            "capital is  in Europe\n",
            "Athens in Europe\n",
            "I want to get orange and grape\n",
            "i want to get:\n",
            "* apple\n",
            "* banana\n",
            "* kiwi\n",
            "* pineapple\n",
            "* watermelon\n",
            "Lions are Kings\n",
            "Bears are Unbeatable\n",
            "Deers are Harbihayvan\n",
            "wolves are Scariest\n",
            "Here is the names of my brothers :\n",
            "tim tom rum\n",
            "<class 'tuple'>\n",
            "enter forst namesemih\n",
            "enter forst namekoc\n",
            "koc semih\n",
            "7.5\n",
            "0 is not > 0\n",
            "1\n",
            "2\n",
            "3\n",
            "4\n",
            "5\n",
            "6\n",
            "7\n",
            "8\n",
            "9\n",
            "10\n",
            "11\n",
            "<class 'list'>\n",
            "<class 'list'>\n",
            "<class 'list'>\n",
            "<class 'list'>\n",
            "<class 'list'>\n",
            "<class 'list'>\n"
          ]
        }
      ]
    },
    {
      "cell_type": "code",
      "metadata": {
        "colab": {
          "base_uri": "https://localhost:8080/"
        },
        "id": "gWWAFW6oCa1t",
        "outputId": "a480855c-53ce-461f-f3fe-f32c9c6a06ec"
      },
      "source": [
        "x = 6\n",
        "while x <= 10: print(x,end=\" \"); x = x+1\n"
      ],
      "execution_count": 8,
      "outputs": [
        {
          "output_type": "stream",
          "name": "stdout",
          "text": [
            "6 7 8 9 10 "
          ]
        }
      ]
    },
    {
      "cell_type": "code",
      "metadata": {
        "colab": {
          "base_uri": "https://localhost:8080/"
        },
        "id": "Bi-OzZqATjmH",
        "outputId": "a36b798c-af18-4504-a604-03c77018dce7"
      },
      "source": [
        "num1 = int(input('Enter first number '))\n",
        "num2 = int(input('Enter second number '))\n",
        "\n",
        "if num1 >= num2:\n",
        "    if num1 == num2:\n",
        "        print(num1, 'and', num2, 'are equal')\n",
        "    else:\n",
        "        print(num1, 'is greater than', num2)\n",
        "else:\n",
        "    print(num1, 'is smaller than', num2)\n"
      ],
      "execution_count": 2,
      "outputs": [
        {
          "output_type": "stream",
          "name": "stdout",
          "text": [
            "Enter first number 6\n",
            "Enter second number 5\n",
            "6 is greater than 5\n"
          ]
        }
      ]
    },
    {
      "cell_type": "code",
      "metadata": {
        "colab": {
          "base_uri": "https://localhost:8080/"
        },
        "id": "sqyWSiarTkHV",
        "outputId": "6e7b7a8e-5889-45be-d027-9b812570f3cf"
      },
      "source": [
        "n= 2\n",
        "for i in range(1,11,1):\n",
        "  product = n*i\n",
        "  print(product)\n",
        "\n",
        "  #carpim tablosu olusturma"
      ],
      "execution_count": 19,
      "outputs": [
        {
          "output_type": "stream",
          "name": "stdout",
          "text": [
            "2\n",
            "4\n",
            "6\n",
            "8\n",
            "10\n",
            "12\n",
            "14\n",
            "16\n",
            "18\n",
            "20\n"
          ]
        }
      ]
    },
    {
      "cell_type": "code",
      "metadata": {
        "colab": {
          "base_uri": "https://localhost:8080/"
        },
        "id": "9Vl8mFQmezg5",
        "outputId": "cd9d1245-77ee-44c8-b542-14d681d7b968"
      },
      "source": [
        "list3 =[20,50,30,70,88]\n",
        "list3.reverse()\n",
        "print(list3)\n",
        "\n",
        "#print reverse geri geriye ornek\n",
        "#for loop kullanirsan 'reversed' olarak belirtmen gerekiyor\n",
        "\n",
        "lis4 =[40,60,77,90]\n",
        "new_list = reversed(lis4)\n",
        "\n",
        "for item in new_list:\n",
        "  print(item, end='')"
      ],
      "execution_count": 25,
      "outputs": [
        {
          "output_type": "stream",
          "name": "stdout",
          "text": [
            "[88, 70, 30, 50, 20]\n",
            "90776040"
          ]
        }
      ]
    },
    {
      "cell_type": "code",
      "metadata": {
        "colab": {
          "base_uri": "https://localhost:8080/"
        },
        "id": "y8gM-pEKhHs4",
        "outputId": "8d1f19d8-e23d-4e22-a1a7-70b27c11ebc6"
      },
      "source": [
        "for i in range(5):\n",
        "    print(i)\n",
        "else:\n",
        "    print(\"Done!\")"
      ],
      "execution_count": 26,
      "outputs": [
        {
          "output_type": "stream",
          "name": "stdout",
          "text": [
            "0\n",
            "1\n",
            "2\n",
            "3\n",
            "4\n",
            "Done!\n"
          ]
        }
      ]
    },
    {
      "cell_type": "code",
      "metadata": {
        "colab": {
          "base_uri": "https://localhost:8080/"
        },
        "id": "FpcnJWKiGhCw",
        "outputId": "03142d51-386a-4939-9329-b12ee5ed8e8a"
      },
      "source": [
        "#Calculate the cube of all numbers from 1 to a given number\n",
        "input_number = 6\n",
        "for i in range(1, input_number + 1):\n",
        "    print(\"Current Number is :\", i, \" and the cube is\", (i * i * i))"
      ],
      "execution_count": 1,
      "outputs": [
        {
          "output_type": "stream",
          "name": "stdout",
          "text": [
            "Current Number is : 1  and the cube is 1\n",
            "Current Number is : 2  and the cube is 8\n",
            "Current Number is : 3  and the cube is 27\n",
            "Current Number is : 4  and the cube is 64\n",
            "Current Number is : 5  and the cube is 125\n",
            "Current Number is : 6  and the cube is 216\n"
          ]
        }
      ]
    },
    {
      "cell_type": "code",
      "metadata": {
        "colab": {
          "base_uri": "https://localhost:8080/"
        },
        "id": "Tl_yRbvzIelW",
        "outputId": "eab8eb6b-447b-42ab-8c13-dc030c7e942e"
      },
      "source": [
        "aList = [4, 8, 12, 16]\n",
        "aList[1:4] = [20, 24, 28]\n",
        "print(aList)\n"
      ],
      "execution_count": 2,
      "outputs": [
        {
          "output_type": "stream",
          "name": "stdout",
          "text": [
            "[4, 20, 24, 28]\n"
          ]
        }
      ]
    },
    {
      "cell_type": "code",
      "metadata": {
        "colab": {
          "base_uri": "https://localhost:8080/"
        },
        "id": "bhLAdhYxLB33",
        "outputId": "b2f26bcc-b067-41c2-c5e2-3ff0107b8c99"
      },
      "source": [
        "var = \"James\" * 2  * 3\n",
        "print(var)"
      ],
      "execution_count": 3,
      "outputs": [
        {
          "output_type": "stream",
          "name": "stdout",
          "text": [
            "JamesJamesJamesJamesJamesJames\n"
          ]
        }
      ]
    },
    {
      "cell_type": "code",
      "metadata": {
        "colab": {
          "base_uri": "https://localhost:8080/"
        },
        "id": "JgrUPN-7LUnm",
        "outputId": "afa3cba7-6067-427f-d2f9-a40c61342379"
      },
      "source": [
        "def calculate (num1, num2=4):\n",
        "  res = num1 * num2\n",
        "  print(res)\n",
        "\n",
        "calculate(5, 6)"
      ],
      "execution_count": 4,
      "outputs": [
        {
          "output_type": "stream",
          "name": "stdout",
          "text": [
            "30\n"
          ]
        }
      ]
    },
    {
      "cell_type": "code",
      "metadata": {
        "colab": {
          "base_uri": "https://localhost:8080/"
        },
        "id": "DUkqhcQgLmpc",
        "outputId": "806372d4-65e7-4340-c054-862d123c9cdf"
      },
      "source": [
        "salary = 8000\n",
        "\n",
        "def printSalary():\n",
        "  salary = 12000\n",
        "  print(\"Salary:\", salary)\n",
        "  \n",
        "printSalary()\n",
        "print(\"Salary:\", salary)"
      ],
      "execution_count": 5,
      "outputs": [
        {
          "output_type": "stream",
          "name": "stdout",
          "text": [
            "Salary: 12000\n",
            "Salary: 8000\n"
          ]
        }
      ]
    },
    {
      "cell_type": "code",
      "metadata": {
        "id": "kdcoHiLdMFaT"
      },
      "source": [
        ""
      ],
      "execution_count": null,
      "outputs": []
    },
    {
      "cell_type": "code",
      "metadata": {
        "colab": {
          "base_uri": "https://localhost:8080/"
        },
        "id": "ezPeyJeMMFd1",
        "outputId": "a8499e83-dc3c-4b85-fe6c-30d7bae3e953"
      },
      "source": [
        "var= \"James Bond\"\n",
        "print(var[2::-1])"
      ],
      "execution_count": 6,
      "outputs": [
        {
          "output_type": "stream",
          "name": "stdout",
          "text": [
            "maJ\n"
          ]
        }
      ]
    },
    {
      "cell_type": "code",
      "metadata": {
        "colab": {
          "base_uri": "https://localhost:8080/"
        },
        "id": "60oHw19jMviD",
        "outputId": "603a334f-d197-454e-81ce-149d58f4f67f"
      },
      "source": [
        "x = 36 / 4 * (3 +  2) * 4 + 2\n",
        "print(x)"
      ],
      "execution_count": 7,
      "outputs": [
        {
          "output_type": "stream",
          "name": "stdout",
          "text": [
            "182.0\n"
          ]
        }
      ]
    },
    {
      "cell_type": "code",
      "metadata": {
        "id": "g39bf1tCMv-n"
      },
      "source": [
        ""
      ],
      "execution_count": null,
      "outputs": []
    },
    {
      "cell_type": "code",
      "metadata": {
        "id": "LTR2hJilMwCj"
      },
      "source": [
        ""
      ],
      "execution_count": null,
      "outputs": []
    },
    {
      "cell_type": "code",
      "metadata": {
        "colab": {
          "base_uri": "https://localhost:8080/"
        },
        "id": "Nmkg-_TpXhMV",
        "outputId": "e929f867-8850-4668-bdf2-5bef1b66d345"
      },
      "source": [
        "n = int(input(\"Enter number \"))\n",
        "# pass range of numbers to sum() function\n",
        "x = sum(range(1, n + 1))\n",
        "print('Sum is:', x)\n",
        "\n",
        "#1,2,3,4,5,6,7,8,9,10,11,12-- add all these up this is the code for it"
      ],
      "execution_count": 10,
      "outputs": [
        {
          "output_type": "stream",
          "name": "stdout",
          "text": [
            "Enter number 12\n",
            "Sum is: 78\n"
          ]
        }
      ]
    }
  ]
}